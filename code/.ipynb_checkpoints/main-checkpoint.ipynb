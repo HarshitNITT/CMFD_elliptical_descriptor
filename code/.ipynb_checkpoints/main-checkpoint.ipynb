{
 "cells": [
  {
   "cell_type": "code",
   "execution_count": 1,
   "metadata": {},
   "outputs": [
    {
     "data": {
      "text/plain": [
       "'1.16.1'"
      ]
     },
     "execution_count": 1,
     "metadata": {},
     "output_type": "execute_result"
    }
   ],
   "source": [
    "import numpy as np\n",
    "np.__version__"
   ]
  },
  {
   "cell_type": "code",
   "execution_count": 6,
   "metadata": {
    "scrolled": true
   },
   "outputs": [
    {
     "data": {
      "image/png": "[encoded data removed]",
      "text/plain": [
       "<Figure size 432x288 with 4 Axes>"
      ]
     },
     "metadata": {},
     "output_type": "display_data"
    }
   ],
   "source": [
    "from skimage.io import imread\n",
    "from sift import SIFT\n",
    "import numpy as np\n",
    "import argparse\n",
    "import pickle\n",
    "import os\n",
    "from os.path import isdir\n",
    "\n",
    "import matplotlib.pyplot as plt\n",
    "\n",
    "#input image file name to test\n",
    "#here coin.png is used\n",
    "im = imread(\"../coin.png\")\n",
    "\n",
    "sift_detector = SIFT(im)\n",
    "_ = sift_detector.get_features()\n",
    "kp_pyr = sift_detector.kp_pyr\n",
    "\n",
    "if not isdir('results'):\n",
    "    os.mkdir('results')\n",
    "\n",
    "\n",
    "_, ax = plt.subplots(1, sift_detector.num_octave)\n",
    "\n",
    "for i in range(sift_detector.num_octave):\n",
    "    ax[i].imshow(im)\n",
    "\n",
    "    scaled_kps = kp_pyr[i] * (2**i)\n",
    "    ax[i].scatter(scaled_kps[:,0], scaled_kps[:,1], c='r', s=2.5)\n",
    "\n",
    "plt.show()\n",
    "\n",
    "# print kp_pyr[0]"
   ]
  },
  {
   "cell_type": "code",
   "execution_count": null,
   "metadata": {
    "collapsed": true,
    "scrolled": true
   },
   "outputs": [],
   "source": [
    "print sift_detector.get_features()[0]\n"
   ]
  },
  {
   "cell_type": "code",
   "execution_count": null,
   "metadata": {
    "collapsed": true
   },
   "outputs": [],
   "source": [
    "from sklearn.cluster import AgglomerativeClustering\n",
    "import numpy as np\n",
    "from collections import Counter\n",
    "# X=np.array(kp_pyr[0][:,0],kp_pyr[0][:,1])\n",
    "clustering = AgglomerativeClustering(n_clusters=3).fit(kp_pyr[1][:,0:1])\n",
    "print Counter(clustering.labels_)\n"
   ]
  },
  {
   "cell_type": "code",
   "execution_count": null,
   "metadata": {
    "collapsed": true
   },
   "outputs": [],
   "source": [
    "l=[]\n",
    "l.append(len(kp_pyr[0]))\n"
   ]
  },
  {
   "cell_type": "code",
   "execution_count": null,
   "metadata": {
    "collapsed": true
   },
   "outputs": [],
   "source": [
    "l.append(len(kp_pyr[1]))\n",
    "l.append(len(kp_pyr[2]))\n",
    "l.append(len(kp_pyr[3]))"
   ]
  },
  {
   "cell_type": "code",
   "execution_count": null,
   "metadata": {
    "collapsed": true
   },
   "outputs": [],
   "source": [
    "\n",
    "l"
   ]
  },
  {
   "cell_type": "code",
   "execution_count": null,
   "metadata": {
    "collapsed": true
   },
   "outputs": [],
   "source": [
    "'''\n",
    "import matplotlib.pyplot as plt\n",
    "fig = plt.figure()\n",
    "ax = fig.add_axes([0,0,1,1])\n",
    "ax.bar([1,2,3,4],l)\n",
    "plt.show()\n",
    "'''"
   ]
  },
  {
   "cell_type": "code",
   "execution_count": null,
   "metadata": {
    "collapsed": true
   },
   "outputs": [],
   "source": [
    "\"\"\"\n",
    "import matplotlib.pyplot as plt\n",
    "fig = plt.figure()\n",
    "ax = fig.add_axes([0,0,1,1])\n",
    "\n",
    "plt.xlabel(\"Threshold\")\n",
    "plt.ylabel(\"Number of Keypoints\")\n",
    "plt.show()\n",
    "\"\"\""
   ]
  },
  {
   "cell_type": "code",
   "execution_count": null,
   "metadata": {
    "collapsed": true,
    "scrolled": false
   },
   "outputs": [],
   "source": [
    "#give octave number in square \n",
    "descriptor=sift_detector.get_features()[0]\n"
   ]
  },
  {
   "cell_type": "code",
   "execution_count": 3,
   "metadata": {
    "scrolled": false
   },
   "outputs": [
    {
     "ename": "IOError",
     "evalue": "[Errno 2] No such file or directory: 'test.jpg'",
     "output_type": "error",
     "traceback": [
      "\u001b[0;31m---------------------------------------------------------------------------\u001b[0m",
      "\u001b[0;31mIOError\u001b[0m                                   Traceback (most recent call last)",
      "\u001b[0;32m<ipython-input-3-1e2cd18bfd15>\u001b[0m in \u001b[0;36m<module>\u001b[0;34m()\u001b[0m\n\u001b[1;32m      3\u001b[0m \u001b[0;32mfrom\u001b[0m \u001b[0mPIL\u001b[0m \u001b[0;32mimport\u001b[0m \u001b[0mImage\u001b[0m\u001b[0;34m,\u001b[0m \u001b[0mImageDraw\u001b[0m\u001b[0;34m\u001b[0m\u001b[0m\n\u001b[1;32m      4\u001b[0m \u001b[0;34m\u001b[0m\u001b[0m\n\u001b[0;32m----> 5\u001b[0;31m \u001b[0mim\u001b[0m \u001b[0;34m=\u001b[0m \u001b[0mImage\u001b[0m\u001b[0;34m.\u001b[0m\u001b[0mopen\u001b[0m\u001b[0;34m(\u001b[0m\u001b[0;34m\"test.jpg\"\u001b[0m\u001b[0;34m)\u001b[0m\u001b[0;34m\u001b[0m\u001b[0m\n\u001b[0m\u001b[1;32m      6\u001b[0m \u001b[0mans\u001b[0m\u001b[0;34m=\u001b[0m\u001b[0;34m[\u001b[0m\u001b[0;34m]\u001b[0m\u001b[0;34m\u001b[0m\u001b[0m\n\u001b[1;32m      7\u001b[0m \u001b[0mdraw\u001b[0m \u001b[0;34m=\u001b[0m \u001b[0mImageDraw\u001b[0m\u001b[0;34m.\u001b[0m\u001b[0mDraw\u001b[0m\u001b[0;34m(\u001b[0m\u001b[0mim\u001b[0m\u001b[0;34m)\u001b[0m\u001b[0;34m\u001b[0m\u001b[0m\n",
      "\u001b[0;32m/home/harshit/.local/lib/python2.7/site-packages/PIL/Image.pyc\u001b[0m in \u001b[0;36mopen\u001b[0;34m(fp, mode)\u001b[0m\n\u001b[1;32m   2764\u001b[0m \u001b[0;34m\u001b[0m\u001b[0m\n\u001b[1;32m   2765\u001b[0m     \u001b[0;32mif\u001b[0m \u001b[0mfilename\u001b[0m\u001b[0;34m:\u001b[0m\u001b[0;34m\u001b[0m\u001b[0m\n\u001b[0;32m-> 2766\u001b[0;31m         \u001b[0mfp\u001b[0m \u001b[0;34m=\u001b[0m \u001b[0mbuiltins\u001b[0m\u001b[0;34m.\u001b[0m\u001b[0mopen\u001b[0m\u001b[0;34m(\u001b[0m\u001b[0mfilename\u001b[0m\u001b[0;34m,\u001b[0m \u001b[0;34m\"rb\"\u001b[0m\u001b[0;34m)\u001b[0m\u001b[0;34m\u001b[0m\u001b[0m\n\u001b[0m\u001b[1;32m   2767\u001b[0m         \u001b[0mexclusive_fp\u001b[0m \u001b[0;34m=\u001b[0m \u001b[0mTrue\u001b[0m\u001b[0;34m\u001b[0m\u001b[0m\n\u001b[1;32m   2768\u001b[0m \u001b[0;34m\u001b[0m\u001b[0m\n",
      "\u001b[0;31mIOError\u001b[0m: [Errno 2] No such file or directory: 'test.jpg'"
     ]
    }
   ],
   "source": [
    "import math\n",
    "import matplotlib.image as mpimg\n",
    "from PIL import Image, ImageDraw\n",
    "\n",
    "im = Image.open(\"test.jpg\")\n",
    "ans=[]\n",
    "draw = ImageDraw.Draw(im)\n",
    "for i in range(len(descriptor)):\n",
    "    res=[]\n",
    "    res90=[]\n",
    "    res180=[]\n",
    "    res270=[]\n",
    "    #select the octave number to work on\n",
    "    octave=0\n",
    "    for j in range(len(descriptor)):\n",
    "        if i==j:\n",
    "            continue\n",
    "        descriptor[i]\n",
    "        temp=0\n",
    "        temp90=0\n",
    "        temp180=0\n",
    "        temp270=0\n",
    "        \n",
    "        for k in range(len(descriptor[i])):\n",
    "            temp+=(descriptor[i][k]-descriptor[j][k])**2\n",
    "            if kp_pyr[octave][i][0]*(2**octave)!=kp_pyr[octave][j][0]*(2**octave) or kp_pyr[octave][j][1]*(2**octave)!=kp_pyr[octave][i][1]*(2**octave):\n",
    "                res.append([math.sqrt(temp),i,j])\n",
    "    \n",
    "        for a in range(4):\n",
    "            for b in range(4):\n",
    "                for c in range(8):\n",
    "                    temp270+=(descriptor[i][a*4*8+b*8+c]-descriptor[j][b*4*8+a*8+c])**2;\n",
    "                    if kp_pyr[octave][i][0]*(2**octave)!=kp_pyr[octave][j][0]*(2**octave) or kp_pyr[octave][j][1]*(2**octave)!=kp_pyr[octave][i][1]*(2**octave):\n",
    "                        res270.append([math.sqrt(temp270),i,j])\n",
    " \n",
    "        for a in range(4):\n",
    "                for b in range(4):\n",
    "                    for c in range(8):\n",
    "                        temp180+=(descriptor[i][a*4*8+b*8+c]-descriptor[j][(3-a)*4*8+b*8+c])**2;\n",
    "                        if kp_pyr[octave][i][0]*(2**octave)!=kp_pyr[octave][j][0]*(2**octave) or kp_pyr[octave][j][1]*(2**octave)!=kp_pyr[octave][i][1]*(2**octave):\n",
    "                            res180.append([math.sqrt(temp180),i,j])\n",
    "\n",
    "        for a in range(4):\n",
    "                for b in range(4):\n",
    "                    for c in range(8):\n",
    "                        temp90+=(descriptor[i][a*4*8+b*8+c]-descriptor[j][b*4*8+(3-a)*8+c])**2;\n",
    "                        if kp_pyr[octave][i][0]*(2**octave)!=kp_pyr[octave][j][0]*(2**octave) or kp_pyr[octave][j][1]*(2**octave)!=kp_pyr[octave][i][1]*(2**octave):\n",
    "                            res90.append([math.sqrt(temp90),i,j])\n",
    "    res90.sort()\n",
    "    res180.sort()\n",
    "    res270.sort()\n",
    "    res.sort()\n",
    "    thres=0.95\n",
    "    thres1=0.70\n",
    "    rat=res[0][0]/max(res[1][0],.00001)\n",
    "    temp=octave\n",
    "    if rat>thres1:\n",
    "#         print rat\n",
    "        ans.append(rat)\n",
    "        draw.line((kp_pyr[temp][i][0]*(2**temp), kp_pyr[temp][i][1]*(2**temp), kp_pyr[temp][res[0][2]][0]*(2**temp), kp_pyr[temp][res[0][2]][1]*(2**temp)), fill=128)\n",
    "    rat=res90[0][0]/max(res90[1][0],.00001)\n",
    "    if rat>thres1:\n",
    "#         print rat\n",
    "        ans.append(rat)\n",
    "        draw.line((kp_pyr[temp][i][0]*(2**temp), kp_pyr[temp][i][1]*(2**temp), kp_pyr[temp][res90[0][2]][0]*(2**temp), kp_pyr[temp][res90[0][2]][1]*(2**temp)), fill=128)\n",
    "    rat=res180[0][0]/max(res180[1][0],.00001)\n",
    "    if rat>thres1:\n",
    "#         print rat\n",
    "        ans.append(rat)\n",
    "        draw.line((kp_pyr[temp][i][0]*(2**temp), kp_pyr[temp][i][1]*(2**temp), kp_pyr[temp][res180[0][2]][0]*(2**temp), kp_pyr[temp][res180[0][2]][1]*(2**temp)), fill=128)\n",
    "    rat=res270[0][0]/max(res270[1][0],.00001)\n",
    "    if rat>thres1:\n",
    "#         print rat\n",
    "        ans.append(rat)\n",
    "        draw.line((kp_pyr[temp][i][0]*(2**temp), kp_pyr[temp][i][1]*(2**temp), kp_pyr[temp][res270[0][2]][0]*(2**temp), kp_pyr[temp][res270[0][2]][1]*(2**temp)), fill=128)\n",
    "\n",
    "        \n",
    "#give output image name    \n",
    "im.save(\"coin_demo.png\")\n",
    "print len(ans)"
   ]
  },
  {
   "cell_type": "code",
   "execution_count": null,
   "metadata": {
    "collapsed": true
   },
   "outputs": [],
   "source": []
  },
  {
   "cell_type": "code",
   "execution_count": null,
   "metadata": {
    "collapsed": true
   },
   "outputs": [],
   "source": []
  },
  {
   "cell_type": "code",
   "execution_count": null,
   "metadata": {
    "collapsed": true
   },
   "outputs": [],
   "source": [
    "#using KUM value API\n",
    "def kum_value():\n",
    "    for i in range(1,length(kend),2):\n",
    "        si(ceil(kend(i)/6),ceil(kend(i+1)/6))= si(ceil(kend(i)/6),ceil(kend(i+1)/6))+1\n",
    "        no_of_key_points=length(kend)/2;\n",
    "        key_points_density=no_of_key_points/(ceil(n/6)*ceil(m/6));\n",
    "        kum_square=0;\n",
    "        for i in range(1,ceil(m/6)):\n",
    "            for j in range(1,ceil(n/6)):\n",
    "                kum_square=kum_square+\n",
    "                (key_points_density-si(i,j))*(key_points_density-si(i,j))\n",
    "            kum=sqrt(kum_square/no_of_key_points)\n",
    "            thres=thres/2;\n",
    "            if kum <0.3\n",
    "                break;\n",
    "\n"
   ]
  },
  {
   "cell_type": "code",
   "execution_count": null,
   "metadata": {
    "collapsed": true
   },
   "outputs": [],
   "source": [
    "#Descriptor API\n",
    "for x in range(0,359,45 ):\n",
    "        magcount=0\n",
    "        for i in range(-4,4):\n",
    "            for j in range(-floor(sqrt(16-i*i)),floor(sqrt(16-i*i))):\n",
    "                \n",
    "                ch1=-180+x\n",
    "                ch2=-180+45+x\n",
    "                if (ch1<0  ||  ch2<0):\n",
    "                    if ((k1+i)>0 and (j1+j)>0 and (k1+i)<m and (j1+j)<n):\n",
    "                        \n",
    "                        if (abs(oric(k1+i,j1+j))<abs(ch1) and abs(oric(k1+i,j1+j))>=abs(ch2)):\n",
    "                            if (oric(k1+i,j1+j))>=(ch1) and oric(k1+i,j1+j)<(ch2)):\n",
    "                                if i<=0 and j<=0:\n",
    "                                    if abs(i)>abs(j):\n",
    "#                                         y=2 finding x\n",
    "                                        if i*i+j*j<=1:\n",
    "                                            c(2*8+floor(x/45)+1)\n",
    "                                            =c(2*8+floor(x/45)+1)+mag(k1+i,j1+j)\n",
    "                                        elif i*i+j*j <=4:\n",
    "                                            c(6*8+floor(x/45)+1)\n",
    "                                            =c(6*8+floor(x/45)+1)+mag(k1+i,j1+j)\n",
    "                                        elif i*i+j*j <=9: \n",
    "                                            c(10*8+floor(x/45)+1)\n",
    "                                            =c(10*8+floor(x/45)+1)+mag(k1+i,j1+j)\n",
    "                                        elif i*i+j*j <=16: \n",
    "                                            c(14*8+floor(x/45)+1)\n",
    "                                            =c(14*8+floor(x/45)+1)+mag(k1+i,j1+j) \n",
    "                                else:\n",
    "#                                 y=1 finding x\n",
    "                                    if (i*i+j*j <=1):\n",
    "                                        c(1*8+floor(x/45)+1)=\n",
    "                                        c(1*8+floor(x/45)+1)+mag(k1+i,j1+j)\n",
    "                                    \n",
    "                                    elif i*i+j*j <=4:\n",
    "                                        c(5*8+floor(x/45)+1)\n",
    "                                        =c(5*8+floor(x/45)+1)+mag(k1+i,j1+j);\n",
    "                                   \n",
    "                                    \n",
    "                                    elif i*i+j*j <=9: \n",
    "                                        c(9*8+floor(x/45)+1)\n",
    "                                        =c(9*8+floor(x/45)+1)+mag(k1+i,j1+j);\n",
    "                                    elif i*i+j*j<=16:\n",
    "                                        c(13*8+floor(x/45)+1)\n",
    "                                        =c(13*8+floor(x/45)+1)+mag(k1+i,j1+j);   \n",
    "\n",
    "                            if (i>=0 and j<=0):\n",
    "                                if( abs(i)>=abs(j)):\n",
    "                               #y=0 finding x\n",
    "                                    if (i*i+j*j<=1):\n",
    "                                        \n",
    "                                        c(0*8+floor(x/45)+1)\n",
    "                                        =c(0*8+floor(x/45)+1)+mag(k1+i,j1+j);\n",
    "                                    \n",
    "                                    elif i*i+j*j <=4:\n",
    "                                        c(4*8+floor(x/45)+1)\n",
    "                                        =c(4*8+floor(x/45)+1)+mag(k1+i,j1+j);\n",
    "                                   \n",
    "                                    \n",
    "                                    elif i*i+j*j <= 9:\n",
    "                                        c(8*8+floor(x/45)+1)\n",
    "                                        =c(8*8+floor(x/45)+1)+mag(k1+i,j1+j);\n",
    "                           \n",
    "                                \n",
    "                                    elif i*i+j*j <=16:\n",
    "                                    c(12*8+floor(x/45)+1)\n",
    "                                    =c(12*8+floor(x/45)+1)+mag(k1+i,j1+j);   \n",
    "                                    end\n",
    "                           \n",
    "                                else:\n",
    "                                #y= 1\n",
    "                                    if i*i+j*j<=1:\n",
    "                                        c(1*8+floor(x/45)+1)\n",
    "                                        =c(1*8+floor(x/45)+1)+mag(k1+i,j1+j);\n",
    "                                    \n",
    "                                    elif i*i+j*j <=4:\n",
    "                                        c(5*8+floor(x/45)+1)\n",
    "                                        =c(5*8+floor(x/45)+1)+mag(k1+i,j1+j);\n",
    "                                   \n",
    "                                    \n",
    "                                    elif i*i+j*j <= 9:\n",
    "                                        c(9*8+floor(x/45)+1)\n",
    "                                        =c(9*8+floor(x/45)+1)+mag(k1+i,j1+j);\n",
    "                               \n",
    "                                \n",
    "                                    elif i*i+j*j <=16:\n",
    "                                        c(13*8+floor(x/45)+1)\n",
    "                                        =c(13*8+floor(x/45)+1)+mag(k1+i,j1+j);   \n",
    "                                    \n",
    "                                \n",
    "                            \n",
    "                        \n",
    "                            if (i>=0 and j>=0):\n",
    "                                if (abs(i)>abs(j)):\n",
    "                                \n",
    "                                    if i*i+j*j<=1:\n",
    "                                      \n",
    "                                        c(0*8+floor(x/45)+1)=\n",
    "                                        c(0*8+floor(x/45)+1)+mag(k1+i,j1+j);\n",
    "                                    \n",
    "                                    elif i*i+j*j <=4:\n",
    "                                        c(4*8+floor(x/45)+1)\n",
    "                                        =c(4*8+floor(x/45)+1)+mag(k1+i,j1+j);\n",
    "                                   \n",
    "                                    \n",
    "                                    elif i*i+j*j <= 9:\n",
    "                                        c(8*8+floor(x/45)+1)\n",
    "                                        =c(8*8+floor(x/45)+1)+mag(k1+i,j1+j);\n",
    "                               \n",
    "                                    \n",
    "                                    elif i*i+j*j <=16:\n",
    "                                        c(12*8+floor(x/45)+1)\n",
    "                                        =c(12*8+floor(x/45)+1)+mag(k1+i,j1+j);   \n",
    "\n",
    "                                else:\n",
    "                              \n",
    "                                    if i*i+j*j <=1:\n",
    "                                        c(3*8+floor(x/45)+1)\n",
    "                                        =c(3*8+floor(x/45)+1)+mag(k1+i,j1+j);\n",
    "                                    \n",
    "                                    elif i*i+j*j <=4:\n",
    "                                        c(7*8+floor(x/45)+1)\n",
    "                                        =c(7*8+floor(x/45)+1)+mag(k1+i,j1+j);\n",
    "                                   "
   ]
  },
  {
   "cell_type": "code",
   "execution_count": null,
   "metadata": {
    "collapsed": true
   },
   "outputs": [],
   "source": []
  },
  {
   "cell_type": "code",
   "execution_count": null,
   "metadata": {
    "collapsed": true
   },
   "outputs": [],
   "source": []
  },
  {
   "cell_type": "code",
   "execution_count": null,
   "metadata": {
    "collapsed": true
   },
   "outputs": [],
   "source": []
  },
  {
   "cell_type": "code",
   "execution_count": null,
   "metadata": {
    "collapsed": true
   },
   "outputs": [],
   "source": []
  }
 ],
 "metadata": {
  "kernelspec": {
   "display_name": "Python 2",
   "language": "python",
   "name": "python2"
  },
  "language_info": {
   "codemirror_mode": {
    "name": "ipython",
    "version": 2
   },
   "file_extension": ".py",
   "mimetype": "text/x-python",
   "name": "python",
   "nbconvert_exporter": "python",
   "pygments_lexer": "ipython2",
   "version": "2.7.6"
  }
 },
 "nbformat": 4,
 "nbformat_minor": 2
}
